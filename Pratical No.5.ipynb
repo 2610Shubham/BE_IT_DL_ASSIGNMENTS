{
 "cells": [
  {
   "cell_type": "markdown",
   "metadata": {},
   "source": [
    "Name: **Shubham Patil**<br>\n",
    "Title: **Assignment 5: Implement the Continuous Bag of Words (CBOW) Model.**<br>"
   ]
  },
  {
   "cell_type": "markdown",
   "metadata": {},
   "source": [
    "# Importing necessary libraries"
   ]
  },
  {
   "cell_type": "code",
   "execution_count": 49,
   "metadata": {},
   "outputs": [],
   "source": [
    "import matplotlib.pyplot as plt\n",
    "import numpy as np\n",
    "# re stands for regular expressions, powerful tool for working with text data.\n",
    "import re"
   ]
  },
  {
   "cell_type": "markdown",
   "metadata": {},
   "source": [
    "# A.  Data preparation"
   ]
  },
  {
   "cell_type": "code",
   "execution_count": 50,
   "metadata": {},
   "outputs": [],
   "source": [
    "#  Define a text containing sentences\n",
    "sentences = \"\"\"We are about to study the idea of a computational process.\n",
    "Computational processes are abstract beings that inhabit computers.\n",
    "As they evolve, processes manipulate other abstract things called data.\n",
    "The evolution of a process is directed by a pattern of rules\n",
    "called a program. People create programs to direct processes. In effect,\n",
    "we conjure the spirits of the computer with our spells.\"\"\""
   ]
  },
  {
   "cell_type": "markdown",
   "metadata": {},
   "source": [
    "# Cleaning the data "
   ]
  },
  {
   "cell_type": "code",
   "execution_count": 51,
   "metadata": {},
   "outputs": [],
   "source": [
    "# we are passing the  pattern to consider & replace other pattern  with the ' ' inside the sentences input string\n",
    "sentences = re.sub('[^A-Za-z0-9]+', ' ', sentences) #  remove special characters from the sentences\n",
    "\n",
    "# Removing \"one-letter words\" and the word appears at the beginning of a sentence.\n",
    "sentences = re.sub(r'(?:^| )\\w(?:$| )', ' ', sentences).strip()\n",
    "\n",
    "# lower all characters\n",
    "sentences = sentences.lower()"
   ]
  },
  {
   "cell_type": "code",
   "execution_count": 52,
   "metadata": {},
   "outputs": [],
   "source": [
    "# Split the text into words after cleaning\n",
    "words = sentences.split()\n",
    "\n",
    "# Create a set to store unique words as vocabulary, This step removes duplicate words from the list.\n",
    "vocab = set(words)\n",
    "\n",
    "# Get the size of the vocabulary\n",
    "vocab_size = len(vocab)\\\n",
    "\n"
   ]
  },
  {
   "cell_type": "code",
   "execution_count": 53,
   "metadata": {},
   "outputs": [],
   "source": [
    "# Define embedding dimension and context size\n",
    "embed_dim = 10  #  each word will be represented by a vector with 10 numerical values. \n",
    "context_size = 2  # model looks at two words on each side of the target word "
   ]
  },
  {
   "cell_type": "markdown",
   "metadata": {},
   "source": [
    "Create dictionaries to map words to indices and indices to words\n"
   ]
  },
  {
   "cell_type": "code",
   "execution_count": 54,
   "metadata": {},
   "outputs": [],
   "source": [
    "word_to_ix = {word: i for i, word in enumerate(vocab)}  # Map words to indices\n",
    "# {'apple', 'banana', 'cherry'} = {'apple': 0, 'banana': 1, 'cherry': 2}\n",
    "\n",
    "ix_to_word = {i: word for i, word in enumerate(vocab)}  # Map indices to words\n",
    "# {'apple', 'banana', 'cherry'} = {0: 'apple', 1: 'banana', 2: 'cherry}"
   ]
  },
  {
   "cell_type": "markdown",
   "metadata": {},
   "source": [
    "# B.  Generate training data"
   ]
  },
  {
   "cell_type": "code",
   "execution_count": 55,
   "metadata": {},
   "outputs": [
    {
     "name": "stdout",
     "output_type": "stream",
     "text": [
      "[(['we', 'are', 'to', 'study'], 'about'), (['are', 'about', 'study', 'the'], 'to'), (['about', 'to', 'the', 'idea'], 'study'), (['to', 'study', 'idea', 'of'], 'the'), (['study', 'the', 'of', 'computational'], 'idea')]\n"
     ]
    }
   ],
   "source": [
    "# Create a list to store training data, where each entry is a tuple of context words and a target word\n",
    "\n",
    "data = []\n",
    "for i in range(2, len(words) - 2):\n",
    "    context = [words[i - 2], words[i - 1], words[i + 1], words[i + 2]]\n",
    "    target = words[i]\n",
    "    data.append((context, target))\n",
    "print(data[:5])\n",
    "\n",
    "# -2 ensures that you have a balanced number of words on both sides of the target word"
   ]
  },
  {
   "cell_type": "markdown",
   "metadata": {},
   "source": [
    "# C. Train model\n"
   ]
  },
  {
   "cell_type": "code",
   "execution_count": 56,
   "metadata": {},
   "outputs": [],
   "source": [
    "# Initialize random word embeddings for the vocabulary.\n",
    "# Word embeddings are numerical representations of words that capture their meanings in a multi-dimensional space.\n",
    "embeddings =  np.random.random_sample((vocab_size, embed_dim)) "
   ]
  },
  {
   "cell_type": "markdown",
   "metadata": {},
   "source": [
    "Linear Model"
   ]
  },
  {
   "cell_type": "code",
   "execution_count": 57,
   "metadata": {},
   "outputs": [],
   "source": [
    "# This function performs a linear transformation on the input matrix m using the weight matrix theta.\n",
    "def linear(m, theta):\n",
    "    w = theta\n",
    "    return m.dot(w)\n",
    "\n",
    "#multiplying each element in the matrix \"m\" by the corresponding element in the weight matrix \"theta\" and \n",
    "# then summing up the results to get a new transformed matrix. "
   ]
  },
  {
   "cell_type": "markdown",
   "metadata": {},
   "source": [
    "Log softmax + NLLloss = Cross Entropy\n",
    "\n",
    "A way to quantify how well the model's predictions match the truth in classification problems. "
   ]
  },
  {
   "cell_type": "code",
   "execution_count": 58,
   "metadata": {},
   "outputs": [],
   "source": [
    "# log softmax function is used to convert raw scores into probability distributions.\n",
    "def log_softmax(x):\n",
    "    e_x = np.exp(x - np.max(x)) #calculates the exponential of each element in the input array x after shifting it by the maximum value in x\n",
    "    return np.log(e_x / e_x.sum())\n",
    "# x: The input vector for which log softmax is computed"
   ]
  },
  {
   "cell_type": "code",
   "execution_count": 59,
   "metadata": {},
   "outputs": [],
   "source": [
    "# Negative Log Likelihood Loss measures how well the model's predicted probabilities match the actual data (target)\n",
    "def NLLLoss(logs, targets):\n",
    "    out = logs[range(len(targets)), targets]\n",
    "    return -out.sum()/len(out)\n",
    "\n",
    "#  2D array that contains log probabilities or log softmax values produced by a model. \n",
    "# targets: This is a 1D array that contains the true class labels for each data point."
   ]
  },
  {
   "cell_type": "code",
   "execution_count": 60,
   "metadata": {},
   "outputs": [],
   "source": [
    "# used for calculating the loss for a classification task with logit values (raw scores) as input. \n",
    "def log_softmax_crossentropy_with_logits(logits,target):\n",
    "\n",
    "    out = np.zeros_like(logits) #  used to create a one-hot encoded representation of the target class.\n",
    "    out[np.arange(len(logits)),target] = 1 # sets the elements in the out array to 1 for the positions corresponding to the target classes.\n",
    "    \n",
    "    softmax = np.exp(logits) / np.exp(logits).sum(axis=-1,keepdims=True )# calculates the softmax probabilities for each class\n",
    "    # axis=-1 typically refers to the last axis.,  keepdims=True means the result will have the same number of dimensions as the original array, but the summed axis will have a size of 1.\n",
    "    \n",
    "    return (- out + softmax) / logits.shape[0] # calculates the cross-entropy loss. "
   ]
  },
  {
   "cell_type": "markdown",
   "metadata": {},
   "source": [
    "Forward function: The forward function is reponsible for predict the target word based on its context"
   ]
  },
  {
   "cell_type": "code",
   "execution_count": 61,
   "metadata": {},
   "outputs": [],
   "source": [
    "def forward(context_idxs, theta):\n",
    "    m = embeddings[context_idxs].reshape(1, -1)\n",
    "    n = linear(m, theta)\n",
    "    o = log_softmax(n) # computes the log-softmax of the hidden layer n\n",
    "    \n",
    "    return m, n, o"
   ]
  },
  {
   "cell_type": "markdown",
   "metadata": {},
   "source": [
    "Backward function : used to compute the gradients necessary for updating the model's parameters during the training process."
   ]
  },
  {
   "cell_type": "code",
   "execution_count": 62,
   "metadata": {},
   "outputs": [],
   "source": [
    "def backward(preds, theta, target_idxs):\n",
    "    m, n, o = preds\n",
    "    \n",
    "    dlog = log_softmax_crossentropy_with_logits(n, target_idxs)\n",
    "    dw = m.T.dot(dlog) # performing a dot product between the transpose of the input word embeddings (m.T) and dlog. \n",
    "    \n",
    "    return dw"
   ]
  },
  {
   "cell_type": "markdown",
   "metadata": {},
   "source": [
    "Optimize function : It is used to updates the parameters by moving them in the direction that reduces the loss (as indicated by the negative gradients) and returns the updated parameters."
   ]
  },
  {
   "cell_type": "code",
   "execution_count": 63,
   "metadata": {},
   "outputs": [],
   "source": [
    "def optimize(theta, grad, learning_rate=0.03): # 0.3 step size for the parameter updates.\n",
    "    theta -= grad *  learning_rate\n",
    "    return theta"
   ]
  },
  {
   "cell_type": "markdown",
   "metadata": {},
   "source": [
    "# Training "
   ]
  },
  {
   "cell_type": "code",
   "execution_count": 17,
   "metadata": {},
   "outputs": [],
   "source": [
    "# Generate random initial weights for the linear transformation\n",
    "theta = np.random.uniform(-1, 1, (2 * context_size * embed_dim, vocab_size)) # This expression represents the total number of parameters in the weight matrix"
   ]
  },
  {
   "cell_type": "code",
   "execution_count": 66,
   "metadata": {},
   "outputs": [],
   "source": [
    "# An epoch is one complete pass through the entire training dataset.\n",
    "\n",
    "epoch_losses = {} # an empty dictionary to store the losses for each epoch.\n",
    "\n",
    "for epoch in range(80):\n",
    "\n",
    "    losses =  [] # used to calculate and store the losses for each data point during the epoch.\n",
    "\n",
    "    for context, target in data:\n",
    "        # It takes each word in the context list, looks up its corresponding numerical index in the word_to_ix mapping, and creates an array of numerical indices.\n",
    "        context_idxs = np.array([word_to_ix[w] for w in context])\n",
    "        \n",
    "        preds = forward(context_idxs, theta)\n",
    "\n",
    "        target_idxs = np.array([word_to_ix[target]]) # target word is converted into its numerical index.\n",
    "        loss = NLLLoss(preds[-1], target_idxs)\n",
    "\n",
    "        losses.append(loss)\n",
    "\n",
    "        grad = backward(preds, theta, target_idxs)\n",
    "        theta = optimize(theta, grad,learning_rate=0.03)\n",
    "        \n",
    "     \n",
    "    epoch_losses[epoch] = losses \n",
    "    # the list of losses for that epoch is stored in the epoch_losses dictionary with the current epoch number as the key."
   ]
  },
  {
   "cell_type": "markdown",
   "metadata": {},
   "source": [
    "# Ploting the  loss per epoch"
   ]
  },
  {
   "cell_type": "code",
   "execution_count": 67,
   "metadata": {},
   "outputs": [
    {
     "data": {
      "text/plain": [
       "Text(0, 0.5, 'Losses')"
      ]
     },
     "execution_count": 67,
     "metadata": {},
     "output_type": "execute_result"
    },
    {
     "data": {
      "image/png": "[encoded data removed]",
      "text/plain": [
       "<Figure size 432x288 with 1 Axes>"
      ]
     },
     "metadata": {
      "needs_background": "light"
     },
     "output_type": "display_data"
    }
   ],
   "source": [
    "ix = np.arange(0,80)\n",
    "\n",
    "fig = plt.figure()\n",
    "fig.suptitle('Epoch/Losses', fontsize=20)\n",
    "plt.plot(ix,[epoch_losses[i][0] for i in ix])\n",
    "plt.xlabel('Epochs', fontsize=12)\n",
    "plt.ylabel('Losses', fontsize=12)"
   ]
  },
  {
   "cell_type": "markdown",
   "metadata": {},
   "source": [
    "Predict function"
   ]
  },
  {
   "cell_type": "code",
   "execution_count": 68,
   "metadata": {},
   "outputs": [],
   "source": [
    "def predict(words):\n",
    "    context_idxs = np.array([word_to_ix[w] for w in words]) #  converting a list of input words (words) into numerical indices \n",
    "    preds = forward(context_idxs, theta) # computes the model's predictions based on the provided context. \n",
    "    word = ix_to_word[np.argmax(preds[-1])] # accesses the last element (last prediction) in the preds array. \n",
    "    \n",
    "    return word"
   ]
  },
  {
   "cell_type": "code",
   "execution_count": 69,
   "metadata": {},
   "outputs": [
    {
     "data": {
      "text/plain": [
       "'about'"
      ]
     },
     "execution_count": 69,
     "metadata": {},
     "output_type": "execute_result"
    }
   ],
   "source": [
    "# (['we', 'are', 'to', 'study'], 'about')\n",
    "predict(['we', 'are', 'to', 'study'])"
   ]
  },
  {
   "cell_type": "markdown",
   "metadata": {},
   "source": [
    "Accuracy"
   ]
  },
  {
   "cell_type": "code",
   "execution_count": 70,
   "metadata": {},
   "outputs": [],
   "source": [
    "def accuracy():\n",
    "    wrong = 0\n",
    "\n",
    "    for context, target in data:\n",
    "        if(predict(context) != target):\n",
    "            wrong += 1\n",
    "            \n",
    "    return (1 - (wrong / len(data)))"
   ]
  },
  {
   "cell_type": "code",
   "execution_count": 71,
   "metadata": {},
   "outputs": [
    {
     "data": {
      "text/plain": [
       "1.0"
      ]
     },
     "execution_count": 71,
     "metadata": {},
     "output_type": "execute_result"
    }
   ],
   "source": [
    "accuracy()"
   ]
  },
  {
   "cell_type": "code",
   "execution_count": 72,
   "metadata": {},
   "outputs": [
    {
     "data": {
      "text/plain": [
       "'abstract'"
      ]
     },
     "execution_count": 72,
     "metadata": {},
     "output_type": "execute_result"
    }
   ],
   "source": [
    "predict(['processes', 'manipulate', 'things', 'study'])"
   ]
  }
 ],
 "metadata": {
  "kernelspec": {
   "display_name": "Python 3 (ipykernel)",
   "language": "python",
   "name": "python3"
  },
  "language_info": {
   "codemirror_mode": {
    "name": "ipython",
    "version": 3
   },
   "file_extension": ".py",
   "mimetype": "text/x-python",
   "name": "python",
   "nbconvert_exporter": "python",
   "pygments_lexer": "ipython3",
   "version": "3.9.12"
  }
 },
 "nbformat": 4,
 "nbformat_minor": 4
}
